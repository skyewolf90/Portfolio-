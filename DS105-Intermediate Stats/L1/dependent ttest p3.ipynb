{
 "cells": [
  {
   "cell_type": "code",
   "execution_count": 1,
   "id": "17675210-1523-44f8-8210-c066e213212c",
   "metadata": {},
   "outputs": [],
   "source": [
    "import pandas as pd\n",
    "from scipy import stats"
   ]
  },
  {
   "cell_type": "code",
   "execution_count": 9,
   "id": "84dd682c-c798-44ce-9f4f-9dbbfd4018e0",
   "metadata": {},
   "outputs": [],
   "source": [
    "hybrid201213 = pd.read_excel(\"C:/Users/Lenovo/OneDrive/Desktop/Data-Science-Program/DATASETS/hybrid2012-13.xlsx\")"
   ]
  },
  {
   "cell_type": "markdown",
   "id": "ac23c0a4-bb97-4cd0-8720-ea7c579f41a6",
   "metadata": {},
   "source": [
    "test for normality"
   ]
  },
  {
   "cell_type": "code",
   "execution_count": 10,
   "id": "216928bf-97ce-46da-b997-ec4cd4ffac1d",
   "metadata": {},
   "outputs": [
    {
     "data": {
      "text/plain": [
       "<Axes: >"
      ]
     },
     "execution_count": 10,
     "metadata": {},
     "output_type": "execute_result"
    },
    {
     "data": {
      "image/png": "[encoded data removed]",
      "text/plain": [
       "<Figure size 432x288 with 1 Axes>"
      ]
     },
     "metadata": {
      "needs_background": "light"
     },
     "output_type": "display_data"
    }
   ],
   "source": [
    "hybrid201213['msrp2012'].hist()"
   ]
  },
  {
   "cell_type": "code",
   "execution_count": 11,
   "id": "4a0e8eab-7461-48d9-a826-179003bfd742",
   "metadata": {},
   "outputs": [
    {
     "data": {
      "text/plain": [
       "<Axes: >"
      ]
     },
     "execution_count": 11,
     "metadata": {},
     "output_type": "execute_result"
    },
    {
     "data": {
      "image/png": "[encoded data removed]",
      "text/plain": [
       "<Figure size 432x288 with 1 Axes>"
      ]
     },
     "metadata": {
      "needs_background": "light"
     },
     "output_type": "display_data"
    }
   ],
   "source": [
    "hybrid201213['msrp2013'].hist()"
   ]
  },
  {
   "cell_type": "markdown",
   "id": "977b4c72-e433-4cbb-8e41-9a1af28e1bee",
   "metadata": {},
   "source": [
    "run analysis"
   ]
  },
  {
   "cell_type": "code",
   "execution_count": 12,
   "id": "bb62cc5f-fd5e-4db2-9b96-70415961ea58",
   "metadata": {},
   "outputs": [
    {
     "data": {
      "text/plain": [
       "TtestResult(statistic=0.2374965077759743, pvalue=0.8162780348473798, df=12)"
      ]
     },
     "execution_count": 12,
     "metadata": {},
     "output_type": "execute_result"
    }
   ],
   "source": [
    "stats.ttest_rel(hybrid201213['msrp2012'], hybrid201213['msrp2013'])"
   ]
  },
  {
   "cell_type": "markdown",
   "id": "a463d7a0-eb56-4cf8-8030-2773ee553117",
   "metadata": {},
   "source": [
    "This shows that there is so significant change in hybrid car price from 2012 to 2013, since the p value is not less than .05."
   ]
  },
  {
   "cell_type": "code",
   "execution_count": null,
   "id": "ad6fe30d-e7a8-4b47-a194-b970a0215616",
   "metadata": {},
   "outputs": [],
   "source": []
  }
 ],
 "metadata": {
  "kernelspec": {
   "display_name": "Python 3 (ipykernel)",
   "language": "python",
   "name": "python3"
  },
  "language_info": {
   "codemirror_mode": {
    "name": "ipython",
    "version": 3
   },
   "file_extension": ".py",
   "mimetype": "text/x-python",
   "name": "python",
   "nbconvert_exporter": "python",
   "pygments_lexer": "ipython3",
   "version": "3.10.6"
  }
 },
 "nbformat": 4,
 "nbformat_minor": 5
}
