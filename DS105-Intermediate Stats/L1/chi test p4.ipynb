{
 "cells": [
  {
   "cell_type": "code",
   "execution_count": 1,
   "id": "4d820168-d8df-43c2-a147-8dbfb5c0b122",
   "metadata": {},
   "outputs": [],
   "source": [
    "import pandas as pd\n",
    "from scipy import stats"
   ]
  },
  {
   "cell_type": "code",
   "execution_count": 4,
   "id": "e6a8ea93-ec9f-4db4-a127-01768911b60f",
   "metadata": {},
   "outputs": [],
   "source": [
    "lipstick = pd.read_csv(\"C:/Users/Lenovo/Downloads/lead_lipstick.zip\")"
   ]
  },
  {
   "cell_type": "code",
   "execution_count": 5,
   "id": "89dc4ce4-e23f-44b8-a350-217082398fac",
   "metadata": {},
   "outputs": [
    {
     "data": {
      "text/plain": [
       "<bound method NDFrame.head of     JRC_code purchCntry prodCntry    Pb  sdPb  shade prodType  priceCatgry\n",
       "0       C135         NL        NL  3.75  0.24    Red       LP            2\n",
       "1        C18         FI        FI  2.29  0.07    Red       LP            2\n",
       "2        C20         FI        IT  1.27  0.06    Red       LP            2\n",
       "3       C164         DE        FR  1.21  0.06    Red       LP            2\n",
       "4        C71         MT        UK  0.85  0.04    Red       LP            2\n",
       "..       ...        ...       ...   ...   ...    ...      ...          ...\n",
       "218     C108         IT        IT  0.24  0.01  Brown       LG            1\n",
       "219      C52         FR        FR  0.23  0.01  Brown       LG            2\n",
       "220      C14         PL        FR  0.19  0.01  Brown       LG            2\n",
       "221      C32         EL        DE  0.09  0.01  Brown       LG            1\n",
       "222     C124         AT        FR  0.04  0.01  Brown       LG            2\n",
       "\n",
       "[223 rows x 8 columns]>"
      ]
     },
     "execution_count": 5,
     "metadata": {},
     "output_type": "execute_result"
    }
   ],
   "source": [
    "lipstick.head"
   ]
  },
  {
   "cell_type": "code",
   "execution_count": 6,
   "id": "b0faa5fa-ed0b-44f8-bc2b-c9125f405d68",
   "metadata": {},
   "outputs": [
    {
     "data": {
      "text/html": [
       "<div>\n",
       "<style scoped>\n",
       "    .dataframe tbody tr th:only-of-type {\n",
       "        vertical-align: middle;\n",
       "    }\n",
       "\n",
       "    .dataframe tbody tr th {\n",
       "        vertical-align: top;\n",
       "    }\n",
       "\n",
       "    .dataframe thead th {\n",
       "        text-align: right;\n",
       "    }\n",
       "</style>\n",
       "<table border=\"1\" class=\"dataframe\">\n",
       "  <thead>\n",
       "    <tr style=\"text-align: right;\">\n",
       "      <th>priceCatgry</th>\n",
       "      <th>1</th>\n",
       "      <th>2</th>\n",
       "      <th>3</th>\n",
       "    </tr>\n",
       "    <tr>\n",
       "      <th>prodType</th>\n",
       "      <th></th>\n",
       "      <th></th>\n",
       "      <th></th>\n",
       "    </tr>\n",
       "  </thead>\n",
       "  <tbody>\n",
       "    <tr>\n",
       "      <th>LG</th>\n",
       "      <td>19</td>\n",
       "      <td>43</td>\n",
       "      <td>12</td>\n",
       "    </tr>\n",
       "    <tr>\n",
       "      <th>LP</th>\n",
       "      <td>34</td>\n",
       "      <td>92</td>\n",
       "      <td>23</td>\n",
       "    </tr>\n",
       "  </tbody>\n",
       "</table>\n",
       "</div>"
      ],
      "text/plain": [
       "priceCatgry   1   2   3\n",
       "prodType               \n",
       "LG           19  43  12\n",
       "LP           34  92  23"
      ]
     },
     "execution_count": 6,
     "metadata": {},
     "output_type": "execute_result"
    }
   ],
   "source": [
    "lipstick_crosstab = pd.crosstab(lipstick['prodType'], lipstick['priceCatgry'])\n",
    "\n",
    "lipstick_crosstab"
   ]
  },
  {
   "cell_type": "code",
   "execution_count": 7,
   "id": "5383b03b-5ae5-4d09-9e70-9c1491d17d97",
   "metadata": {},
   "outputs": [
    {
     "data": {
      "text/plain": [
       "Chi2ContingencyResult(statistic=0.2969891724608704, pvalue=0.8620046738525345, dof=2, expected_freq=array([[17.58744395, 44.79820628, 11.61434978],\n",
       "       [35.41255605, 90.20179372, 23.38565022]]))"
      ]
     },
     "execution_count": 7,
     "metadata": {},
     "output_type": "execute_result"
    }
   ],
   "source": [
    "stats.chi2_contingency(lipstick_crosstab)"
   ]
  },
  {
   "cell_type": "code",
   "execution_count": null,
   "id": "d05a6eb7-2aed-498b-80b8-5dc781bcf6c3",
   "metadata": {},
   "outputs": [],
   "source": []
  }
 ],
 "metadata": {
  "kernelspec": {
   "display_name": "Python 3 (ipykernel)",
   "language": "python",
   "name": "python3"
  },
  "language_info": {
   "codemirror_mode": {
    "name": "ipython",
    "version": 3
   },
   "file_extension": ".py",
   "mimetype": "text/x-python",
   "name": "python",
   "nbconvert_exporter": "python",
   "pygments_lexer": "ipython3",
   "version": "3.10.6"
  }
 },
 "nbformat": 4,
 "nbformat_minor": 5
}
