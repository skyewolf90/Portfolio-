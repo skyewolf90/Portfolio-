{
 "cells": [
  {
   "cell_type": "markdown",
   "id": "05c68e99-0cc0-43fd-b031-a47ee5c73793",
   "metadata": {},
   "source": [
    "ANIME HANDS ON"
   ]
  },
  {
   "cell_type": "code",
   "execution_count": 1,
   "id": "afe726a5-692c-4eb8-b402-8c80758adbd2",
   "metadata": {},
   "outputs": [],
   "source": [
    "import pandas as pd\n",
    "import numpy as np\n",
    "from scipy.stats import norm\n",
    "from scipy import stats\n",
    "from scipy.stats import ttest_ind\n",
    "import matplotlib.pyplot as plt\n",
    "import seaborn as sns"
   ]
  },
  {
   "cell_type": "code",
   "execution_count": 3,
   "id": "ff0472c5-ff41-4de5-a872-cf9b4bf2b4d2",
   "metadata": {},
   "outputs": [],
   "source": [
    "anime = pd.read_csv(\"C:/Users/Lenovo/OneDrive/Desktop/Data-Science-Program/DATASETS/anime.csv\")"
   ]
  },
  {
   "cell_type": "code",
   "execution_count": 4,
   "id": "a340e7e1-01a2-4088-8e15-abdbc192760d",
   "metadata": {},
   "outputs": [
    {
     "data": {
      "text/plain": [
       "<bound method NDFrame.head of       anime_id                                              title  \\\n",
       "0        11013                                      Inu x Boku SS   \n",
       "1         2104                                   Seto no Hanayome   \n",
       "2         5262                                 Shugo Chara!! Doki   \n",
       "3          721                                      Princess Tutu   \n",
       "4        12365                                Bakuman. 3rd Season   \n",
       "...        ...                                                ...   \n",
       "6663     37405                            Dokidoki Little Ooyasan   \n",
       "6664     37886                        Wo Shi Jiang Xiaobai (2018)   \n",
       "6665     37255              Genki Genki Non-tan: Obake Mura Meiro   \n",
       "6666     35229                                Mr. Men Little Miss   \n",
       "6667     36315  Mushi Mushi Mura no Nakama-tachi: Minna Ii Tok...   \n",
       "\n",
       "                  title_english                      title_japanese  \\\n",
       "0     Inu X Boku Secret Service                              妖狐×僕SS   \n",
       "1         My Bride is a Mermaid                               瀬戸の花嫁   \n",
       "2            Shugo Chara!! Doki                         しゅごキャラ！！どきっ   \n",
       "3                 Princess Tutu                           プリンセスチュチュ   \n",
       "4                      Bakuman.                               バクマン。   \n",
       "...                         ...                                 ...   \n",
       "6663                        NaN                     dokidokiりとる大家さん   \n",
       "6664         I&#039;m Joybo OVA                           我是江小白 小剧场   \n",
       "6665                        NaN                 げんきげんきノンタン　おばけむらめいろ   \n",
       "6666        Mr. Men Little Miss  Mr. Men Little Miss / ミスターメン リトルミス   \n",
       "6667                        NaN             むしむし村の仲間たち　みんないいとこあるんだよ   \n",
       "\n",
       "                                     title_synonyms  \\\n",
       "0                                   Youko x Boku SS   \n",
       "1                              The Inland Sea Bride   \n",
       "2     Shugo Chara Ninenme, Shugo Chara! Second Year   \n",
       "3                                               NaN   \n",
       "4                                  Bakuman Season 3   \n",
       "...                                             ...   \n",
       "6663                                            NaN   \n",
       "6664           Wo Shi Jiang Xiao Bai: Xiao Ju Chang   \n",
       "6665                                            NaN   \n",
       "6666                                            NaN   \n",
       "6667                                            NaN   \n",
       "\n",
       "                                              image_url type        source  \\\n",
       "0     https://myanimelist.cdn-dena.com/images/anime/...   TV         Manga   \n",
       "1     https://myanimelist.cdn-dena.com/images/anime/...   TV         Manga   \n",
       "2     https://myanimelist.cdn-dena.com/images/anime/...   TV         Manga   \n",
       "3     https://myanimelist.cdn-dena.com/images/anime/...   TV      Original   \n",
       "4     https://myanimelist.cdn-dena.com/images/anime/...   TV         Manga   \n",
       "...                                                 ...  ...           ...   \n",
       "6663  https://myanimelist.cdn-dena.com/images/anime/...  OVA         Other   \n",
       "6664  https://myanimelist.cdn-dena.com/images/anime/...  ONA      Original   \n",
       "6665  https://myanimelist.cdn-dena.com/images/anime/...  OVA      Original   \n",
       "6666  https://myanimelist.cdn-dena.com/images/anime/...  ONA  Picture book   \n",
       "6667  https://myanimelist.cdn-dena.com/images/anime/...  OVA      Original   \n",
       "\n",
       "      episodes            status  ...           broadcast  \\\n",
       "0           12   Finished Airing  ...  Fridays at Unknown   \n",
       "1           26   Finished Airing  ...             Unknown   \n",
       "2           51   Finished Airing  ...             Unknown   \n",
       "3           38   Finished Airing  ...  Fridays at Unknown   \n",
       "4           25   Finished Airing  ...             Unknown   \n",
       "...        ...               ...  ...                 ...   \n",
       "6663         0  Currently Airing  ...                 NaN   \n",
       "6664         1   Finished Airing  ...                 NaN   \n",
       "6665         1   Finished Airing  ...                 NaN   \n",
       "6666         0  Currently Airing  ...                 NaN   \n",
       "6667         1   Finished Airing  ...                 NaN   \n",
       "\n",
       "                                                related  \\\n",
       "0     {'Adaptation': [{'mal_id': 17207, 'type': 'man...   \n",
       "1     {'Adaptation': [{'mal_id': 759, 'type': 'manga...   \n",
       "2     {'Adaptation': [{'mal_id': 101, 'type': 'manga...   \n",
       "3     {'Adaptation': [{'mal_id': 1581, 'type': 'mang...   \n",
       "4     {'Adaptation': [{'mal_id': 9711, 'type': 'mang...   \n",
       "...                                                 ...   \n",
       "6663                                                 []   \n",
       "6664  {'Prequel': [{'mal_id': 36775, 'type': 'anime'...   \n",
       "6665  {'Prequel': [{'mal_id': 25619, 'type': 'anime'...   \n",
       "6666                                                 []   \n",
       "6667  {'Alternative version': [{'mal_id': 28549, 'ty...   \n",
       "\n",
       "                                               producer          licensor  \\\n",
       "0     Aniplex, Square Enix, Mainichi Broadcasting Sy...  Sentai Filmworks   \n",
       "1                     TV Tokyo, AIC, Square Enix, Sotsu        Funimation   \n",
       "2                                       TV Tokyo, Sotsu               NaN   \n",
       "3                    Memory-Tech, GANSIS, Marvelous AQL         ADV Films   \n",
       "4                                         NHK, Shueisha               NaN   \n",
       "...                                                 ...               ...   \n",
       "6663                                                NaN               NaN   \n",
       "6664                                                NaN               NaN   \n",
       "6665                                                NaN               NaN   \n",
       "6666                                                NaN               NaN   \n",
       "6667                                                NaN               NaN   \n",
       "\n",
       "                   studio                                     genre  \\\n",
       "0        David Production    Comedy, Supernatural, Romance, Shounen   \n",
       "1                   Gonzo  Comedy, Parody, Romance, School, Shounen   \n",
       "2               Satelight             Comedy, Magic, School, Shoujo   \n",
       "3          Hal Film Maker    Comedy, Drama, Magic, Romance, Fantasy   \n",
       "4               J.C.Staff           Comedy, Drama, Romance, Shounen   \n",
       "...                   ...                                       ...   \n",
       "6663  Collaboration Works                                    Hentai   \n",
       "6664       2:10 Animation             Slice of Life, Drama, Romance   \n",
       "6665     Polygon Pictures                               Music, Kids   \n",
       "6666               Sanrio                                      Kids   \n",
       "6667       Toei Animation                                      Kids   \n",
       "\n",
       "                                          opening_theme  \\\n",
       "0                                 ['\"Nirvana\" by MUCC']   \n",
       "1                    ['\"Romantic summer\" by SUN&LUNAR']   \n",
       "2     ['#1: \"Minna no Tamago (みんなのたまご)\" by Shugo Cha...   \n",
       "3                ['\"Morning Grace\" by Ritsuko Okazaki']   \n",
       "4     ['#1: \"Moshimo no Hanashi (もしもの話)\" by nano.RIP...   \n",
       "...                                                 ...   \n",
       "6663                                                 []   \n",
       "6664                                                 []   \n",
       "6665                                                 []   \n",
       "6666                                                 []   \n",
       "6667                                                 []   \n",
       "\n",
       "                                           ending_theme  duration_min  \\\n",
       "0     ['#1: \"Nirvana\" by MUCC (eps 1, 11-12)', '#2: ...          24.0   \n",
       "1     ['#1: \"Ashita e no Hikari (明日への光)\" by Asuka Hi...          24.0   \n",
       "2     ['#1: \"Rottara Rottara (ロッタラ ロッタラ)\" by Buono! ...          24.0   \n",
       "3     ['\"Watashi No Ai Wa Chiisaikeredo\" by Ritsuko ...          16.0   \n",
       "4     ['#1: \"Pride on Everyday\" by Sphere (eps 1-13)...          24.0   \n",
       "...                                                 ...           ...   \n",
       "6663                                                 []          30.0   \n",
       "6664                                                 []           0.0   \n",
       "6665                                                 []          35.0   \n",
       "6666                                                 []           2.0   \n",
       "6667                                                 []          13.0   \n",
       "\n",
       "      aired_from_year  \n",
       "0                2012  \n",
       "1                2007  \n",
       "2                2008  \n",
       "3                2002  \n",
       "4                2012  \n",
       "...               ...  \n",
       "6663             2018  \n",
       "6664             2018  \n",
       "6665             2015  \n",
       "6666             2013  \n",
       "6667             2017  \n",
       "\n",
       "[6668 rows x 33 columns]>"
      ]
     },
     "execution_count": 4,
     "metadata": {},
     "output_type": "execute_result"
    }
   ],
   "source": [
    "anime.head"
   ]
  },
  {
   "cell_type": "markdown",
   "id": "06718211-29bb-4577-9c15-ff975b276539",
   "metadata": {},
   "source": [
    "\n",
    "Is a Rating Score of 6.2 Different from the Mean in this Dataset?"
   ]
  },
  {
   "cell_type": "code",
   "execution_count": 5,
   "id": "fecfabd7-7507-4b87-826d-89af8b73dee7",
   "metadata": {},
   "outputs": [
    {
     "data": {
      "text/plain": [
       "<Axes: >"
      ]
     },
     "execution_count": 5,
     "metadata": {},
     "output_type": "execute_result"
    },
    {
     "data": {
      "image/png": "[encoded data removed]",
      "text/plain": [
       "<Figure size 432x288 with 1 Axes>"
      ]
     },
     "metadata": {
      "needs_background": "light"
     },
     "output_type": "display_data"
    }
   ],
   "source": [
    "anime.score.hist()"
   ]
  },
  {
   "cell_type": "code",
   "execution_count": 6,
   "id": "c261ee75-2ae4-482a-96b2-f66848dbe8aa",
   "metadata": {},
   "outputs": [
    {
     "data": {
      "text/plain": [
       "6.848998200359928"
      ]
     },
     "execution_count": 6,
     "metadata": {},
     "output_type": "execute_result"
    }
   ],
   "source": [
    "anime.score.mean()"
   ]
  },
  {
   "cell_type": "markdown",
   "id": "983ff865-1453-4491-be54-3ed34b00567f",
   "metadata": {},
   "source": [
    "Does Anime that is Still Airing Differ in Popularity from Anime that is No Longer Airing?"
   ]
  },
  {
   "cell_type": "code",
   "execution_count": 7,
   "id": "3ca80ce1-b067-4892-90e0-82a06b5be6e7",
   "metadata": {},
   "outputs": [
    {
     "data": {
      "text/plain": [
       "array(['Finished Airing', 'Currently Airing'], dtype=object)"
      ]
     },
     "execution_count": 7,
     "metadata": {},
     "output_type": "execute_result"
    }
   ],
   "source": [
    "anime.status.unique()"
   ]
  },
  {
   "cell_type": "code",
   "execution_count": 8,
   "id": "1d8f5c61-cd6c-49ce-9912-791f49793db8",
   "metadata": {},
   "outputs": [
    {
     "data": {
      "text/plain": [
       "<Axes: >"
      ]
     },
     "execution_count": 8,
     "metadata": {},
     "output_type": "execute_result"
    },
    {
     "data": {
      "image/png": "[encoded data removed]",
      "text/plain": [
       "<Figure size 432x288 with 1 Axes>"
      ]
     },
     "metadata": {
      "needs_background": "light"
     },
     "output_type": "display_data"
    }
   ],
   "source": [
    "anime.popularity[anime.status == 'Finished Airing'].hist()"
   ]
  },
  {
   "cell_type": "markdown",
   "id": "46bb2492-2900-49b8-b581-19534e79507d",
   "metadata": {},
   "source": [
    "popularity drops after an anime has finished producing episodes"
   ]
  },
  {
   "cell_type": "markdown",
   "id": "398e4284-7c24-4245-a48d-bdfbdcc81fe6",
   "metadata": {},
   "source": [
    "whats popular now?"
   ]
  },
  {
   "cell_type": "code",
   "execution_count": 9,
   "id": "9301c8a1-379f-497b-84f7-bb643e386632",
   "metadata": {},
   "outputs": [
    {
     "data": {
      "text/plain": [
       "<Axes: >"
      ]
     },
     "execution_count": 9,
     "metadata": {},
     "output_type": "execute_result"
    },
    {
     "data": {
      "image/png": "[encoded data removed]",
      "text/plain": [
       "<Figure size 432x288 with 1 Axes>"
      ]
     },
     "metadata": {
      "needs_background": "light"
     },
     "output_type": "display_data"
    }
   ],
   "source": [
    "anime.popularity[anime.status == 'Currently Airing'].hist()"
   ]
  },
  {
   "cell_type": "markdown",
   "id": "a9d5555f-d922-4c26-bfd3-5012e643d81c",
   "metadata": {},
   "source": [
    "popularity is up and down during an anime's original air"
   ]
  },
  {
   "cell_type": "markdown",
   "id": "6a81f8f7-3dd2-43dd-9e4b-1509e9f8b19a",
   "metadata": {},
   "source": [
    "run an independent t-test"
   ]
  },
  {
   "cell_type": "code",
   "execution_count": 10,
   "id": "9ba5b1cd-a6c8-41ea-a0f9-136b6b158068",
   "metadata": {},
   "outputs": [
    {
     "data": {
      "text/plain": [
       "Ttest_indResult(statistic=6.489071311277514, pvalue=9.256789141747446e-11)"
      ]
     },
     "execution_count": 10,
     "metadata": {},
     "output_type": "execute_result"
    }
   ],
   "source": [
    "ttest_ind(anime.popularity[anime.status == 'Currently Airing'], anime.popularity[anime.status == 'Finished Airing'])"
   ]
  },
  {
   "cell_type": "markdown",
   "id": "09c4bb8c-7438-4e97-8167-674de880aded",
   "metadata": {},
   "source": [
    "##there is a significant difference"
   ]
  },
  {
   "cell_type": "markdown",
   "id": "463c30cf-6974-4efa-a5ef-a181a7461a44",
   "metadata": {},
   "source": [
    "The means"
   ]
  },
  {
   "cell_type": "code",
   "execution_count": 11,
   "id": "fe0f0c68-bb9d-4f82-8c73-8d8136a76836",
   "metadata": {},
   "outputs": [
    {
     "data": {
      "text/plain": [
       "6108.131147540984"
      ]
     },
     "execution_count": 11,
     "metadata": {},
     "output_type": "execute_result"
    }
   ],
   "source": [
    "anime.popularity[anime.status == 'Currently Airing'].mean()"
   ]
  },
  {
   "cell_type": "code",
   "execution_count": 12,
   "id": "bf32197b-6041-4579-bbc2-850ab19fea05",
   "metadata": {},
   "outputs": [
    {
     "data": {
      "text/plain": [
       "4433.558057054742"
      ]
     },
     "execution_count": 12,
     "metadata": {},
     "output_type": "execute_result"
    }
   ],
   "source": [
    "anime.popularity[anime.status == 'Finished Airing'].mean()"
   ]
  },
  {
   "cell_type": "markdown",
   "id": "c61af14a-c5f7-4915-8b29-94015993d2e2",
   "metadata": {},
   "source": [
    "thats a steep jump obviously what is currently airring is what is most popular"
   ]
  },
  {
   "cell_type": "markdown",
   "id": "5148b999-682b-49da-b661-a9aa07f8e229",
   "metadata": {},
   "source": [
    "Does the Source of the Anime Influence the Type of Anime?"
   ]
  },
  {
   "cell_type": "code",
   "execution_count": 13,
   "id": "2973609a-c4e4-4ed5-9b17-50b49b47448e",
   "metadata": {},
   "outputs": [
    {
     "data": {
      "text/plain": [
       "array(['Manga', 'Original', 'Light novel', '4-koma manga', 'Novel',\n",
       "       'Visual novel', 'Other', 'Game', 'Picture book', 'Card game',\n",
       "       'Web manga', 'Book', 'Music', 'Radio', 'Digital manga'],\n",
       "      dtype=object)"
      ]
     },
     "execution_count": 13,
     "metadata": {},
     "output_type": "execute_result"
    }
   ],
   "source": [
    "anime.source.unique()"
   ]
  },
  {
   "cell_type": "code",
   "execution_count": 22,
   "id": "a35d684e-c287-48ad-9d0c-9ff621c04788",
   "metadata": {},
   "outputs": [
    {
     "ename": "SyntaxError",
     "evalue": "unexpected character after line continuation character (826961802.py, line 1)",
     "output_type": "error",
     "traceback": [
      "\u001b[1;36m  Input \u001b[1;32mIn [22]\u001b[1;36m\u001b[0m\n\u001b[1;33m    cleanup = {'Manga' : 'Manga', 'Original' : 'Other', 'Light novel' : 'Book', '4-koma manga' : 'Manga', 'Novel' : 'Book', 'Visual novel' : 'Book', 'Other' : 'Other', 'Game' : 'Game',\\n\",'Picture book' : 'Novel', 'Card game' : 'Game', 'Web manga' : 'Manga', 'Book' : 'Book', 'Music' : 'Listening', 'Radio' : 'Listening', 'Digital manga' : 'Manga'}\"\u001b[0m\n\u001b[1;37m                                                                                                                                                                                         ^\u001b[0m\n\u001b[1;31mSyntaxError\u001b[0m\u001b[1;31m:\u001b[0m unexpected character after line continuation character\n"
     ]
    }
   ],
   "source": [
    "cleanup = {'Manga' : 'Manga', 'Original' : 'Other', 'Light novel' : 'Book', '4-koma manga' : 'Manga', 'Novel' : 'Book', 'Visual novel' : 'Book', 'Other' : 'Other', 'Game' : 'Game',\\n\",'Picture book' : 'Novel', 'Card game' : 'Game', 'Web manga' : 'Manga', 'Book' : 'Book', 'Music' : 'Listening', 'Radio' : 'Listening', 'Digital manga' : 'Manga'}\""
   ]
  },
  {
   "cell_type": "code",
   "execution_count": 23,
   "id": "08d1e6ea-8128-4dd5-a039-0baaf4f9561f",
   "metadata": {},
   "outputs": [
    {
     "ename": "NameError",
     "evalue": "name 'cleanup' is not defined",
     "output_type": "error",
     "traceback": [
      "\u001b[1;31m---------------------------------------------------------------------------\u001b[0m",
      "\u001b[1;31mNameError\u001b[0m                                 Traceback (most recent call last)",
      "Input \u001b[1;32mIn [23]\u001b[0m, in \u001b[0;36m<cell line: 1>\u001b[1;34m()\u001b[0m\n\u001b[1;32m----> 1\u001b[0m anime2 \u001b[38;5;241m=\u001b[39m anime\u001b[38;5;241m.\u001b[39mreplace({\u001b[38;5;124m'\u001b[39m\u001b[38;5;124msource\u001b[39m\u001b[38;5;124m'\u001b[39m: \u001b[43mcleanup\u001b[49m})\n",
      "\u001b[1;31mNameError\u001b[0m: name 'cleanup' is not defined"
     ]
    }
   ],
   "source": [
    "anime2 = anime.replace({'source': cleanup})"
   ]
  },
  {
   "cell_type": "code",
   "execution_count": 24,
   "id": "f36eae78-dc65-421d-b72f-f7b5607ed9f7",
   "metadata": {},
   "outputs": [
    {
     "ename": "NameError",
     "evalue": "name 'anime2' is not defined",
     "output_type": "error",
     "traceback": [
      "\u001b[1;31m---------------------------------------------------------------------------\u001b[0m",
      "\u001b[1;31mNameError\u001b[0m                                 Traceback (most recent call last)",
      "Input \u001b[1;32mIn [24]\u001b[0m, in \u001b[0;36m<cell line: 1>\u001b[1;34m()\u001b[0m\n\u001b[1;32m----> 1\u001b[0m \u001b[43manime2\u001b[49m\u001b[38;5;241m.\u001b[39msource\u001b[38;5;241m.\u001b[39munique()\n",
      "\u001b[1;31mNameError\u001b[0m: name 'anime2' is not defined"
     ]
    }
   ],
   "source": [
    "anime2.source.unique()"
   ]
  },
  {
   "cell_type": "code",
   "execution_count": 25,
   "id": "6dc98b7b-2b9a-4295-88eb-1fe442f621b8",
   "metadata": {},
   "outputs": [
    {
     "ename": "NameError",
     "evalue": "name 'anime2' is not defined",
     "output_type": "error",
     "traceback": [
      "\u001b[1;31m---------------------------------------------------------------------------\u001b[0m",
      "\u001b[1;31mNameError\u001b[0m                                 Traceback (most recent call last)",
      "Input \u001b[1;32mIn [25]\u001b[0m, in \u001b[0;36m<cell line: 1>\u001b[1;34m()\u001b[0m\n\u001b[1;32m----> 1\u001b[0m crosstab \u001b[38;5;241m=\u001b[39m pd\u001b[38;5;241m.\u001b[39mcrosstab(\u001b[43manime2\u001b[49m[\u001b[38;5;124m'\u001b[39m\u001b[38;5;124msource\u001b[39m\u001b[38;5;124m'\u001b[39m], anime[\u001b[38;5;124m'\u001b[39m\u001b[38;5;124mtype\u001b[39m\u001b[38;5;124m'\u001b[39m])\n\u001b[0;32m      2\u001b[0m crosstab\n",
      "\u001b[1;31mNameError\u001b[0m: name 'anime2' is not defined"
     ]
    }
   ],
   "source": [
    "crosstab = pd.crosstab(anime2['source'], anime['type'])\n",
    "crosstab"
   ]
  },
  {
   "cell_type": "code",
   "execution_count": 26,
   "id": "e4d2d61b-bf67-4b04-b9f8-542ea7896f5d",
   "metadata": {},
   "outputs": [
    {
     "ename": "NameError",
     "evalue": "name 'crosstab' is not defined",
     "output_type": "error",
     "traceback": [
      "\u001b[1;31m---------------------------------------------------------------------------\u001b[0m",
      "\u001b[1;31mNameError\u001b[0m                                 Traceback (most recent call last)",
      "Input \u001b[1;32mIn [26]\u001b[0m, in \u001b[0;36m<cell line: 1>\u001b[1;34m()\u001b[0m\n\u001b[1;32m----> 1\u001b[0m stats\u001b[38;5;241m.\u001b[39mchi2_contingency(\u001b[43mcrosstab\u001b[49m)\n",
      "\u001b[1;31mNameError\u001b[0m: name 'crosstab' is not defined"
     ]
    }
   ],
   "source": [
    "stats.chi2_contingency(crosstab)"
   ]
  },
  {
   "cell_type": "markdown",
   "id": "9b85cf6d-8500-4036-a221-45dc0e0887ef",
   "metadata": {},
   "source": [
    "How do the Variables about Popularity / Ranking Relate to Each Other?"
   ]
  },
  {
   "cell_type": "code",
   "execution_count": 27,
   "id": "92462cfe-55de-4a82-bdcd-d504bf7db266",
   "metadata": {},
   "outputs": [],
   "source": [
    "anime3 = anime[['score', 'scored_by', 'rank', 'popularity', 'members', 'favorites']]"
   ]
  },
  {
   "cell_type": "code",
   "execution_count": 28,
   "id": "acad3b01-a8eb-4053-94dd-f305a769b35a",
   "metadata": {},
   "outputs": [
    {
     "data": {
      "text/plain": [
       "<bound method NDFrame.head of       score  scored_by     rank  popularity  members  favorites\n",
       "0      7.63     139250   1274.0         231   283882       2809\n",
       "1      7.89      91206    727.0         366   204003       2579\n",
       "2      7.55      37129   1508.0        1173    70127        802\n",
       "3      8.21      36501    307.0         916    93312       3344\n",
       "4      8.67     107767     50.0         426   182765       2082\n",
       "...     ...        ...      ...         ...      ...        ...\n",
       "6663   9.52         33      NaN       10273      357         21\n",
       "6664   0.00          0  12719.0       10168      384          1\n",
       "6665   4.20          5  10253.0       14257       37          0\n",
       "6666   4.57          7  11396.0       14066       49          1\n",
       "6667   7.00          4  11396.0       14191       40          0\n",
       "\n",
       "[6668 rows x 6 columns]>"
      ]
     },
     "execution_count": 28,
     "metadata": {},
     "output_type": "execute_result"
    }
   ],
   "source": [
    "anime3.head"
   ]
  },
  {
   "cell_type": "markdown",
   "id": "c7e03cbd-6370-47b1-96ec-af8e7fe3800d",
   "metadata": {},
   "source": [
    "corr matrix"
   ]
  },
  {
   "cell_type": "code",
   "execution_count": 29,
   "id": "fc076901-4089-4e6c-a653-287edb0ef548",
   "metadata": {},
   "outputs": [
    {
     "data": {
      "text/html": [
       "<div>\n",
       "<style scoped>\n",
       "    .dataframe tbody tr th:only-of-type {\n",
       "        vertical-align: middle;\n",
       "    }\n",
       "\n",
       "    .dataframe tbody tr th {\n",
       "        vertical-align: top;\n",
       "    }\n",
       "\n",
       "    .dataframe thead th {\n",
       "        text-align: right;\n",
       "    }\n",
       "</style>\n",
       "<table border=\"1\" class=\"dataframe\">\n",
       "  <thead>\n",
       "    <tr style=\"text-align: right;\">\n",
       "      <th></th>\n",
       "      <th>score</th>\n",
       "      <th>scored_by</th>\n",
       "      <th>rank</th>\n",
       "      <th>popularity</th>\n",
       "      <th>members</th>\n",
       "      <th>favorites</th>\n",
       "    </tr>\n",
       "  </thead>\n",
       "  <tbody>\n",
       "    <tr>\n",
       "      <th>score</th>\n",
       "      <td>1.000000</td>\n",
       "      <td>0.381926</td>\n",
       "      <td>-0.898747</td>\n",
       "      <td>-0.688492</td>\n",
       "      <td>0.415626</td>\n",
       "      <td>0.256094</td>\n",
       "    </tr>\n",
       "    <tr>\n",
       "      <th>scored_by</th>\n",
       "      <td>0.381926</td>\n",
       "      <td>1.000000</td>\n",
       "      <td>-0.356686</td>\n",
       "      <td>-0.425719</td>\n",
       "      <td>0.987107</td>\n",
       "      <td>0.793949</td>\n",
       "    </tr>\n",
       "    <tr>\n",
       "      <th>rank</th>\n",
       "      <td>-0.898747</td>\n",
       "      <td>-0.356686</td>\n",
       "      <td>1.000000</td>\n",
       "      <td>0.777302</td>\n",
       "      <td>-0.391524</td>\n",
       "      <td>-0.208503</td>\n",
       "    </tr>\n",
       "    <tr>\n",
       "      <th>popularity</th>\n",
       "      <td>-0.688492</td>\n",
       "      <td>-0.425719</td>\n",
       "      <td>0.777302</td>\n",
       "      <td>1.000000</td>\n",
       "      <td>-0.474798</td>\n",
       "      <td>-0.210745</td>\n",
       "    </tr>\n",
       "    <tr>\n",
       "      <th>members</th>\n",
       "      <td>0.415626</td>\n",
       "      <td>0.987107</td>\n",
       "      <td>-0.391524</td>\n",
       "      <td>-0.474798</td>\n",
       "      <td>1.000000</td>\n",
       "      <td>0.781565</td>\n",
       "    </tr>\n",
       "    <tr>\n",
       "      <th>favorites</th>\n",
       "      <td>0.256094</td>\n",
       "      <td>0.793949</td>\n",
       "      <td>-0.208503</td>\n",
       "      <td>-0.210745</td>\n",
       "      <td>0.781565</td>\n",
       "      <td>1.000000</td>\n",
       "    </tr>\n",
       "  </tbody>\n",
       "</table>\n",
       "</div>"
      ],
      "text/plain": [
       "               score  scored_by      rank  popularity   members  favorites\n",
       "score       1.000000   0.381926 -0.898747   -0.688492  0.415626   0.256094\n",
       "scored_by   0.381926   1.000000 -0.356686   -0.425719  0.987107   0.793949\n",
       "rank       -0.898747  -0.356686  1.000000    0.777302 -0.391524  -0.208503\n",
       "popularity -0.688492  -0.425719  0.777302    1.000000 -0.474798  -0.210745\n",
       "members     0.415626   0.987107 -0.391524   -0.474798  1.000000   0.781565\n",
       "favorites   0.256094   0.793949 -0.208503   -0.210745  0.781565   1.000000"
      ]
     },
     "execution_count": 29,
     "metadata": {},
     "output_type": "execute_result"
    }
   ],
   "source": [
    "anime3.corr(method='pearson')"
   ]
  },
  {
   "cell_type": "markdown",
   "id": "b65f46d8-e722-4452-a4e8-48fed1faafe5",
   "metadata": {},
   "source": [
    "enhance interpretaion and visuals"
   ]
  },
  {
   "cell_type": "code",
   "execution_count": 31,
   "id": "13f5e093-e5cb-452a-9f75-a98fdc4634b3",
   "metadata": {},
   "outputs": [
    {
     "data": {
      "text/html": [
       "<style type=\"text/css\">\n",
       "#T_d8405_row0_col0, #T_d8405_row1_col1, #T_d8405_row2_col2, #T_d8405_row3_col3, #T_d8405_row4_col4, #T_d8405_row5_col5 {\n",
       "  background-color: #b40426;\n",
       "  color: #f1f1f1;\n",
       "}\n",
       "#T_d8405_row0_col1 {\n",
       "  background-color: #f7b599;\n",
       "  color: #000000;\n",
       "}\n",
       "#T_d8405_row0_col2, #T_d8405_row1_col3, #T_d8405_row2_col0, #T_d8405_row3_col0, #T_d8405_row4_col3, #T_d8405_row5_col2, #T_d8405_row5_col3 {\n",
       "  background-color: #3b4cc0;\n",
       "  color: #f1f1f1;\n",
       "}\n",
       "#T_d8405_row0_col3 {\n",
       "  background-color: #5d7ce6;\n",
       "  color: #f1f1f1;\n",
       "}\n",
       "#T_d8405_row0_col4 {\n",
       "  background-color: #f7af91;\n",
       "  color: #000000;\n",
       "}\n",
       "#T_d8405_row0_col5 {\n",
       "  background-color: #f2c9b4;\n",
       "  color: #000000;\n",
       "}\n",
       "#T_d8405_row1_col0 {\n",
       "  background-color: #edd2c3;\n",
       "  color: #000000;\n",
       "}\n",
       "#T_d8405_row1_col2 {\n",
       "  background-color: #4961d2;\n",
       "  color: #f1f1f1;\n",
       "}\n",
       "#T_d8405_row1_col4, #T_d8405_row4_col1 {\n",
       "  background-color: #b70d28;\n",
       "  color: #f1f1f1;\n",
       "}\n",
       "#T_d8405_row1_col5 {\n",
       "  background-color: #e26952;\n",
       "  color: #f1f1f1;\n",
       "}\n",
       "#T_d8405_row2_col1 {\n",
       "  background-color: #9abbff;\n",
       "  color: #000000;\n",
       "}\n",
       "#T_d8405_row2_col3 {\n",
       "  background-color: #dc5d4a;\n",
       "  color: #f1f1f1;\n",
       "}\n",
       "#T_d8405_row2_col4 {\n",
       "  background-color: #93b5fe;\n",
       "  color: #000000;\n",
       "}\n",
       "#T_d8405_row2_col5 {\n",
       "  background-color: #b5cdfa;\n",
       "  color: #000000;\n",
       "}\n",
       "#T_d8405_row3_col1 {\n",
       "  background-color: #6b8df0;\n",
       "  color: #f1f1f1;\n",
       "}\n",
       "#T_d8405_row3_col2 {\n",
       "  background-color: #df634e;\n",
       "  color: #f1f1f1;\n",
       "}\n",
       "#T_d8405_row3_col4 {\n",
       "  background-color: #6282ea;\n",
       "  color: #f1f1f1;\n",
       "}\n",
       "#T_d8405_row3_col5 {\n",
       "  background-color: #98b9ff;\n",
       "  color: #000000;\n",
       "}\n",
       "#T_d8405_row4_col0 {\n",
       "  background-color: #f2cab5;\n",
       "  color: #000000;\n",
       "}\n",
       "#T_d8405_row4_col2 {\n",
       "  background-color: #4b64d5;\n",
       "  color: #f1f1f1;\n",
       "}\n",
       "#T_d8405_row4_col5 {\n",
       "  background-color: #e36b54;\n",
       "  color: #f1f1f1;\n",
       "}\n",
       "#T_d8405_row5_col0 {\n",
       "  background-color: #bbd1f8;\n",
       "  color: #000000;\n",
       "}\n",
       "#T_d8405_row5_col1 {\n",
       "  background-color: #e8765c;\n",
       "  color: #f1f1f1;\n",
       "}\n",
       "#T_d8405_row5_col4 {\n",
       "  background-color: #ea7b60;\n",
       "  color: #f1f1f1;\n",
       "}\n",
       "</style>\n",
       "<table id=\"T_d8405\">\n",
       "  <thead>\n",
       "    <tr>\n",
       "      <th class=\"blank level0\" >&nbsp;</th>\n",
       "      <th id=\"T_d8405_level0_col0\" class=\"col_heading level0 col0\" >score</th>\n",
       "      <th id=\"T_d8405_level0_col1\" class=\"col_heading level0 col1\" >scored_by</th>\n",
       "      <th id=\"T_d8405_level0_col2\" class=\"col_heading level0 col2\" >rank</th>\n",
       "      <th id=\"T_d8405_level0_col3\" class=\"col_heading level0 col3\" >popularity</th>\n",
       "      <th id=\"T_d8405_level0_col4\" class=\"col_heading level0 col4\" >members</th>\n",
       "      <th id=\"T_d8405_level0_col5\" class=\"col_heading level0 col5\" >favorites</th>\n",
       "    </tr>\n",
       "  </thead>\n",
       "  <tbody>\n",
       "    <tr>\n",
       "      <th id=\"T_d8405_level0_row0\" class=\"row_heading level0 row0\" >score</th>\n",
       "      <td id=\"T_d8405_row0_col0\" class=\"data row0 col0\" >1.0</td>\n",
       "      <td id=\"T_d8405_row0_col1\" class=\"data row0 col1\" >0.38</td>\n",
       "      <td id=\"T_d8405_row0_col2\" class=\"data row0 col2\" >-0.9</td>\n",
       "      <td id=\"T_d8405_row0_col3\" class=\"data row0 col3\" >-0.69</td>\n",
       "      <td id=\"T_d8405_row0_col4\" class=\"data row0 col4\" >0.42</td>\n",
       "      <td id=\"T_d8405_row0_col5\" class=\"data row0 col5\" >0.26</td>\n",
       "    </tr>\n",
       "    <tr>\n",
       "      <th id=\"T_d8405_level0_row1\" class=\"row_heading level0 row1\" >scored_by</th>\n",
       "      <td id=\"T_d8405_row1_col0\" class=\"data row1 col0\" >0.38</td>\n",
       "      <td id=\"T_d8405_row1_col1\" class=\"data row1 col1\" >1.0</td>\n",
       "      <td id=\"T_d8405_row1_col2\" class=\"data row1 col2\" >-0.36</td>\n",
       "      <td id=\"T_d8405_row1_col3\" class=\"data row1 col3\" >-0.43</td>\n",
       "      <td id=\"T_d8405_row1_col4\" class=\"data row1 col4\" >0.99</td>\n",
       "      <td id=\"T_d8405_row1_col5\" class=\"data row1 col5\" >0.79</td>\n",
       "    </tr>\n",
       "    <tr>\n",
       "      <th id=\"T_d8405_level0_row2\" class=\"row_heading level0 row2\" >rank</th>\n",
       "      <td id=\"T_d8405_row2_col0\" class=\"data row2 col0\" >-0.9</td>\n",
       "      <td id=\"T_d8405_row2_col1\" class=\"data row2 col1\" >-0.36</td>\n",
       "      <td id=\"T_d8405_row2_col2\" class=\"data row2 col2\" >1.0</td>\n",
       "      <td id=\"T_d8405_row2_col3\" class=\"data row2 col3\" >0.78</td>\n",
       "      <td id=\"T_d8405_row2_col4\" class=\"data row2 col4\" >-0.39</td>\n",
       "      <td id=\"T_d8405_row2_col5\" class=\"data row2 col5\" >-0.21</td>\n",
       "    </tr>\n",
       "    <tr>\n",
       "      <th id=\"T_d8405_level0_row3\" class=\"row_heading level0 row3\" >popularity</th>\n",
       "      <td id=\"T_d8405_row3_col0\" class=\"data row3 col0\" >-0.69</td>\n",
       "      <td id=\"T_d8405_row3_col1\" class=\"data row3 col1\" >-0.43</td>\n",
       "      <td id=\"T_d8405_row3_col2\" class=\"data row3 col2\" >0.78</td>\n",
       "      <td id=\"T_d8405_row3_col3\" class=\"data row3 col3\" >1.0</td>\n",
       "      <td id=\"T_d8405_row3_col4\" class=\"data row3 col4\" >-0.47</td>\n",
       "      <td id=\"T_d8405_row3_col5\" class=\"data row3 col5\" >-0.21</td>\n",
       "    </tr>\n",
       "    <tr>\n",
       "      <th id=\"T_d8405_level0_row4\" class=\"row_heading level0 row4\" >members</th>\n",
       "      <td id=\"T_d8405_row4_col0\" class=\"data row4 col0\" >0.42</td>\n",
       "      <td id=\"T_d8405_row4_col1\" class=\"data row4 col1\" >0.99</td>\n",
       "      <td id=\"T_d8405_row4_col2\" class=\"data row4 col2\" >-0.39</td>\n",
       "      <td id=\"T_d8405_row4_col3\" class=\"data row4 col3\" >-0.47</td>\n",
       "      <td id=\"T_d8405_row4_col4\" class=\"data row4 col4\" >1.0</td>\n",
       "      <td id=\"T_d8405_row4_col5\" class=\"data row4 col5\" >0.78</td>\n",
       "    </tr>\n",
       "    <tr>\n",
       "      <th id=\"T_d8405_level0_row5\" class=\"row_heading level0 row5\" >favorites</th>\n",
       "      <td id=\"T_d8405_row5_col0\" class=\"data row5 col0\" >0.26</td>\n",
       "      <td id=\"T_d8405_row5_col1\" class=\"data row5 col1\" >0.79</td>\n",
       "      <td id=\"T_d8405_row5_col2\" class=\"data row5 col2\" >-0.21</td>\n",
       "      <td id=\"T_d8405_row5_col3\" class=\"data row5 col3\" >-0.21</td>\n",
       "      <td id=\"T_d8405_row5_col4\" class=\"data row5 col4\" >0.78</td>\n",
       "      <td id=\"T_d8405_row5_col5\" class=\"data row5 col5\" >1.0</td>\n",
       "    </tr>\n",
       "  </tbody>\n",
       "</table>\n"
      ],
      "text/plain": [
       "<pandas.io.formats.style.Styler at 0x20c36ea7430>"
      ]
     },
     "execution_count": 31,
     "metadata": {},
     "output_type": "execute_result"
    }
   ],
   "source": [
    "anime3.corr(method='pearson').style.format(\"{:.2}\").background_gradient(cmap=plt.get_cmap('coolwarm'), axis=1)"
   ]
  },
  {
   "cell_type": "code",
   "execution_count": null,
   "id": "42693ef0-4514-48d4-9dd5-52c5cae54e5e",
   "metadata": {},
   "outputs": [],
   "source": [
    "score .9\n",
    "scored_by-.36\n",
    "rank 1\n",
    "popularity .78\n",
    "members -.39\n",
    "favorites -.2"
   ]
  }
 ],
 "metadata": {
  "kernelspec": {
   "display_name": "Python 3 (ipykernel)",
   "language": "python",
   "name": "python3"
  },
  "language_info": {
   "codemirror_mode": {
    "name": "ipython",
    "version": 3
   },
   "file_extension": ".py",
   "mimetype": "text/x-python",
   "name": "python",
   "nbconvert_exporter": "python",
   "pygments_lexer": "ipython3",
   "version": "3.10.6"
  }
 },
 "nbformat": 4,
 "nbformat_minor": 5
}
