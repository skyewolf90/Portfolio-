{
 "cells": [
  {
   "cell_type": "code",
   "execution_count": 8,
   "id": "b9016dbf-96a3-41d5-8efe-984eea93219a",
   "metadata": {},
   "outputs": [],
   "source": [
    "import pandas as pd\n",
    "import numpy as np\n",
    "from scipy.stats import norm\n",
    "from scipy import stats\n",
    "from scipy.stats import ttest_ind"
   ]
  },
  {
   "cell_type": "code",
   "execution_count": 3,
   "id": "5e6adecb-641d-4002-a96e-93e20f4f7651",
   "metadata": {},
   "outputs": [],
   "source": [
    "hybrid2013 = pd.read_excel(\"C:/Users/Lenovo/OneDrive/Desktop/Data-Science-Program/DATASETS/hybrid2013.xlsx\")"
   ]
  },
  {
   "cell_type": "markdown",
   "id": "429ec683-f2f2-452a-9321-563a6961f878",
   "metadata": {},
   "source": [
    "Test for normality"
   ]
  },
  {
   "cell_type": "code",
   "execution_count": 4,
   "id": "1ad86f45-984a-4f8e-8169-2032fd049c0c",
   "metadata": {},
   "outputs": [
    {
     "data": {
      "text/plain": [
       "<Axes: >"
      ]
     },
     "execution_count": 4,
     "metadata": {},
     "output_type": "execute_result"
    },
    {
     "data": {
      "image/png": "[encoded data removed]",
      "text/plain": [
       "<Figure size 432x288 with 1 Axes>"
      ]
     },
     "metadata": {
      "needs_background": "light"
     },
     "output_type": "display_data"
    }
   ],
   "source": [
    "hybrid2013.mpg[hybrid2013.carclass == 'C'].hist()"
   ]
  },
  {
   "cell_type": "code",
   "execution_count": 5,
   "id": "b9dc9c79-9d0c-48cf-9d56-2711bee150d1",
   "metadata": {},
   "outputs": [
    {
     "data": {
      "text/plain": [
       "<Axes: >"
      ]
     },
     "execution_count": 5,
     "metadata": {},
     "output_type": "execute_result"
    },
    {
     "data": {
      "image/png": "[encoded data removed]",
      "text/plain": [
       "<Figure size 432x288 with 1 Axes>"
      ]
     },
     "metadata": {
      "needs_background": "light"
     },
     "output_type": "display_data"
    }
   ],
   "source": [
    "hybrid2013.mpg[hybrid2013.carclass == 'L'].hist()"
   ]
  },
  {
   "cell_type": "markdown",
   "id": "f07c2905-6d1e-4125-8f65-070f6ff41a13",
   "metadata": {},
   "source": [
    "Indepenant T test"
   ]
  },
  {
   "cell_type": "code",
   "execution_count": 10,
   "id": "73910eb6-c727-4759-9d9f-a1df034fefe5",
   "metadata": {},
   "outputs": [
    {
     "data": {
      "text/plain": [
       "Ttest_indResult(statistic=2.598820461640718, pvalue=0.026545168887970098)"
      ]
     },
     "execution_count": 10,
     "metadata": {},
     "output_type": "execute_result"
    }
   ],
   "source": [
    "ttest_ind(hybrid2013.mpg[hybrid2013.carclass == 'C'], hybrid2013.mpg[hybrid2013.carclass == 'L'])"
   ]
  },
  {
   "cell_type": "markdown",
   "id": "c345c4b3-d7f5-44ed-b934-371dd2ea68ba",
   "metadata": {},
   "source": [
    "Examine the Means for Each Group to Determine Where the Significant Differences Lie"
   ]
  },
  {
   "cell_type": "code",
   "execution_count": 11,
   "id": "f52ad7a3-2a2b-4812-b815-c9d2ddc7ed20",
   "metadata": {},
   "outputs": [
    {
     "data": {
      "text/plain": [
       "28.5"
      ]
     },
     "execution_count": 11,
     "metadata": {},
     "output_type": "execute_result"
    }
   ],
   "source": [
    "hybrid2013.mpg[hybrid2013.carclass == 'L'].mean()"
   ]
  },
  {
   "cell_type": "code",
   "execution_count": 12,
   "id": "b66b88a5-8177-4e31-95f2-f4fccfce7a12",
   "metadata": {},
   "outputs": [
    {
     "data": {
      "text/plain": [
       "40.75"
      ]
     },
     "execution_count": 12,
     "metadata": {},
     "output_type": "execute_result"
    }
   ],
   "source": [
    "hybrid2013.mpg[hybrid2013.carclass == 'C'].mean()"
   ]
  },
  {
   "cell_type": "markdown",
   "id": "7c1723c7-94a1-465e-930a-c80a0f0bc386",
   "metadata": {},
   "source": [
    " you will get more miles to the gallon if you are driving a small hybrid versus a large hybrid in 2013."
   ]
  },
  {
   "cell_type": "code",
   "execution_count": null,
   "id": "28b090d8-5654-4745-a29a-10c0c10cdf84",
   "metadata": {},
   "outputs": [],
   "source": []
  }
 ],
 "metadata": {
  "kernelspec": {
   "display_name": "Python 3 (ipykernel)",
   "language": "python",
   "name": "python3"
  },
  "language_info": {
   "codemirror_mode": {
    "name": "ipython",
    "version": 3
   },
   "file_extension": ".py",
   "mimetype": "text/x-python",
   "name": "python",
   "nbconvert_exporter": "python",
   "pygments_lexer": "ipython3",
   "version": "3.10.6"
  }
 },
 "nbformat": 4,
 "nbformat_minor": 5
}
