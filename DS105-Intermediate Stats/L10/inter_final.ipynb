{
 "cells": [
  {
   "cell_type": "markdown",
   "id": "b41bf24b-ad3b-4ed9-8006-9d96720636a4",
   "metadata": {},
   "source": [
    "# Scenario 1"
   ]
  },
  {
   "cell_type": "markdown",
   "id": "f76173f4-0712-4772-8fa6-e2c2a7b975e1",
   "metadata": {},
   "source": [
    "## One proportion z test"
   ]
  },
  {
   "cell_type": "code",
   "execution_count": 1,
   "id": "cea3f976-f079-4181-aca5-c2ae70de9471",
   "metadata": {},
   "outputs": [],
   "source": [
    "import numpy as np\n",
    "import pandas as pd\n",
    "import seaborn as sns\n",
    "import scipy\n",
    "from scipy import stats\n",
    "from statsmodels.stats.multicomp import pairwise_tukeyhsd\n",
    "from statsmodels.stats.multicomp import MultiComparison\n",
    "from statsmodels.stats.proportion import proportions_ztest\n",
    "from statsmodels.stats.proportion import proportions_chisquare"
   ]
  },
  {
   "cell_type": "code",
   "execution_count": 3,
   "id": "5bf49186-ac18-41cc-a4ae-2a69a43f5bff",
   "metadata": {},
   "outputs": [
    {
     "name": "stdout",
     "output_type": "stream",
     "text": [
      "2.9229268377264077 0.0034675798365736213\n"
     ]
    }
   ],
   "source": [
    "count = 28\n",
    "nobs = 94\n",
    "value = .16\n",
    "stat, pval = proportions_ztest(count, nobs, value)\n",
    "print(stat, pval)"
   ]
  },
  {
   "cell_type": "markdown",
   "id": "b6cc702d-e64c-4862-93cf-5bcf1b338392",
   "metadata": {},
   "source": [
    "#### p-value is above .05 keeping the null hypothesis"
   ]
  },
  {
   "cell_type": "markdown",
   "id": "80a61c4a-0eb0-4a9b-bb64-bebdda9ed5e0",
   "metadata": {},
   "source": [
    "# Scenario 2"
   ]
  },
  {
   "cell_type": "markdown",
   "id": "bd446adc-fe9d-4f2d-9e38-f2858df8731f",
   "metadata": {},
   "source": [
    "### Chi test"
   ]
  },
  {
   "cell_type": "code",
   "execution_count": 5,
   "id": "75d7bb3d-de02-4f01-b8b6-0f175d97ebbf",
   "metadata": {},
   "outputs": [
    {
     "data": {
      "text/html": [
       "<div>\n",
       "<style scoped>\n",
       "    .dataframe tbody tr th:only-of-type {\n",
       "        vertical-align: middle;\n",
       "    }\n",
       "\n",
       "    .dataframe tbody tr th {\n",
       "        vertical-align: top;\n",
       "    }\n",
       "\n",
       "    .dataframe thead th {\n",
       "        text-align: right;\n",
       "    }\n",
       "</style>\n",
       "<table border=\"1\" class=\"dataframe\">\n",
       "  <thead>\n",
       "    <tr style=\"text-align: right;\">\n",
       "      <th></th>\n",
       "      <th>Clinic</th>\n",
       "      <th>Antiseptic Type</th>\n",
       "      <th>Number of applications</th>\n",
       "    </tr>\n",
       "  </thead>\n",
       "  <tbody>\n",
       "    <tr>\n",
       "      <th>0</th>\n",
       "      <td>1</td>\n",
       "      <td>A</td>\n",
       "      <td>22</td>\n",
       "    </tr>\n",
       "    <tr>\n",
       "      <th>1</th>\n",
       "      <td>1</td>\n",
       "      <td>B</td>\n",
       "      <td>71</td>\n",
       "    </tr>\n",
       "    <tr>\n",
       "      <th>2</th>\n",
       "      <td>1</td>\n",
       "      <td>C</td>\n",
       "      <td>8</td>\n",
       "    </tr>\n",
       "    <tr>\n",
       "      <th>3</th>\n",
       "      <td>1</td>\n",
       "      <td>D</td>\n",
       "      <td>49</td>\n",
       "    </tr>\n",
       "    <tr>\n",
       "      <th>4</th>\n",
       "      <td>2</td>\n",
       "      <td>A</td>\n",
       "      <td>38</td>\n",
       "    </tr>\n",
       "  </tbody>\n",
       "</table>\n",
       "</div>"
      ],
      "text/plain": [
       "   Clinic Antiseptic Type   Number of applications\n",
       "0       1                A                      22\n",
       "1       1                B                      71\n",
       "2       1                C                       8\n",
       "3       1                D                      49\n",
       "4       2                A                      38"
      ]
     },
     "execution_count": 5,
     "metadata": {},
     "output_type": "execute_result"
    }
   ],
   "source": [
    "Antiseptics = pd.read_csv(\"C:/Users/Lenovo/Downloads/antiseptics.zip\")\n",
    "Antiseptics.head()"
   ]
  },
  {
   "cell_type": "code",
   "execution_count": 9,
   "id": "0476c24f-b7d1-49db-9a97-d78afee3e39a",
   "metadata": {},
   "outputs": [],
   "source": [
    "Antiseptics.rename(columns={'Antiseptic Type ': \"AS\", \"Number of applications\": \"Count\"}, inplace=True)"
   ]
  },
  {
   "cell_type": "code",
   "execution_count": 10,
   "id": "a9a48ad8-67e6-4e3e-a4d2-7c3f4c6cae4d",
   "metadata": {},
   "outputs": [
    {
     "data": {
      "text/html": [
       "<div>\n",
       "<style scoped>\n",
       "    .dataframe tbody tr th:only-of-type {\n",
       "        vertical-align: middle;\n",
       "    }\n",
       "\n",
       "    .dataframe tbody tr th {\n",
       "        vertical-align: top;\n",
       "    }\n",
       "\n",
       "    .dataframe thead th {\n",
       "        text-align: right;\n",
       "    }\n",
       "</style>\n",
       "<table border=\"1\" class=\"dataframe\">\n",
       "  <thead>\n",
       "    <tr style=\"text-align: right;\">\n",
       "      <th></th>\n",
       "      <th>Clinic</th>\n",
       "      <th>AS</th>\n",
       "      <th>Count</th>\n",
       "    </tr>\n",
       "  </thead>\n",
       "  <tbody>\n",
       "    <tr>\n",
       "      <th>0</th>\n",
       "      <td>1</td>\n",
       "      <td>A</td>\n",
       "      <td>22</td>\n",
       "    </tr>\n",
       "    <tr>\n",
       "      <th>1</th>\n",
       "      <td>1</td>\n",
       "      <td>B</td>\n",
       "      <td>71</td>\n",
       "    </tr>\n",
       "    <tr>\n",
       "      <th>2</th>\n",
       "      <td>1</td>\n",
       "      <td>C</td>\n",
       "      <td>8</td>\n",
       "    </tr>\n",
       "    <tr>\n",
       "      <th>3</th>\n",
       "      <td>1</td>\n",
       "      <td>D</td>\n",
       "      <td>49</td>\n",
       "    </tr>\n",
       "    <tr>\n",
       "      <th>4</th>\n",
       "      <td>2</td>\n",
       "      <td>A</td>\n",
       "      <td>38</td>\n",
       "    </tr>\n",
       "  </tbody>\n",
       "</table>\n",
       "</div>"
      ],
      "text/plain": [
       "   Clinic AS  Count\n",
       "0       1  A     22\n",
       "1       1  B     71\n",
       "2       1  C      8\n",
       "3       1  D     49\n",
       "4       2  A     38"
      ]
     },
     "execution_count": 10,
     "metadata": {},
     "output_type": "execute_result"
    }
   ],
   "source": [
    "Antiseptics.head()"
   ]
  },
  {
   "cell_type": "code",
   "execution_count": 12,
   "id": "6314cb58-c100-4dc2-ac29-3d18bc27fb05",
   "metadata": {},
   "outputs": [
    {
     "data": {
      "text/html": [
       "<div>\n",
       "<style scoped>\n",
       "    .dataframe tbody tr th:only-of-type {\n",
       "        vertical-align: middle;\n",
       "    }\n",
       "\n",
       "    .dataframe tbody tr th {\n",
       "        vertical-align: top;\n",
       "    }\n",
       "\n",
       "    .dataframe thead th {\n",
       "        text-align: right;\n",
       "    }\n",
       "</style>\n",
       "<table border=\"1\" class=\"dataframe\">\n",
       "  <thead>\n",
       "    <tr style=\"text-align: right;\">\n",
       "      <th>Clinic</th>\n",
       "      <th>1</th>\n",
       "      <th>2</th>\n",
       "      <th>3</th>\n",
       "    </tr>\n",
       "    <tr>\n",
       "      <th>AS</th>\n",
       "      <th></th>\n",
       "      <th></th>\n",
       "      <th></th>\n",
       "    </tr>\n",
       "  </thead>\n",
       "  <tbody>\n",
       "    <tr>\n",
       "      <th>A</th>\n",
       "      <td>22</td>\n",
       "      <td>38</td>\n",
       "      <td>84</td>\n",
       "    </tr>\n",
       "    <tr>\n",
       "      <th>B</th>\n",
       "      <td>71</td>\n",
       "      <td>112</td>\n",
       "      <td>298</td>\n",
       "    </tr>\n",
       "    <tr>\n",
       "      <th>C</th>\n",
       "      <td>8</td>\n",
       "      <td>14</td>\n",
       "      <td>37</td>\n",
       "    </tr>\n",
       "    <tr>\n",
       "      <th>D</th>\n",
       "      <td>49</td>\n",
       "      <td>69</td>\n",
       "      <td>182</td>\n",
       "    </tr>\n",
       "  </tbody>\n",
       "</table>\n",
       "</div>"
      ],
      "text/plain": [
       "Clinic   1    2    3\n",
       "AS                  \n",
       "A       22   38   84\n",
       "B       71  112  298\n",
       "C        8   14   37\n",
       "D       49   69  182"
      ]
     },
     "execution_count": 12,
     "metadata": {},
     "output_type": "execute_result"
    }
   ],
   "source": [
    "Antiseptics_pivot = pd.pivot_table(Antiseptics,index='AS',columns='Clinic',values=\"Count\")\n",
    "Antiseptics_pivot"
   ]
  },
  {
   "cell_type": "code",
   "execution_count": 13,
   "id": "96d64510-b289-4f5c-bb15-92844f475158",
   "metadata": {},
   "outputs": [
    {
     "data": {
      "text/plain": [
       "Chi2ContingencyResult(statistic=1.225920250023835, pvalue=0.9755850789571424, dof=6, expected_freq=array([[ 21.95121951,  34.09756098,  87.95121951],\n",
       "       [ 73.32317073, 113.8953252 , 293.78150407],\n",
       "       [  8.99390244,  13.97052846,  36.03556911],\n",
       "       [ 45.73170732,  71.03658537, 183.23170732]]))"
      ]
     },
     "execution_count": 13,
     "metadata": {},
     "output_type": "execute_result"
    }
   ],
   "source": [
    "stats.chi2_contingency(Antiseptics_pivot)"
   ]
  },
  {
   "cell_type": "markdown",
   "id": "ffbbdb26-86fb-4c34-afbf-d3b4ea6a07b4",
   "metadata": {},
   "source": [
    "####  p value is above .05, keeping the null hypothesis."
   ]
  },
  {
   "cell_type": "markdown",
   "id": "c5a74459-37bb-403b-aaac-8abee4127d52",
   "metadata": {},
   "source": [
    "# Scenario 3"
   ]
  },
  {
   "cell_type": "markdown",
   "id": "5ec0cb25-3391-4dc3-9226-1ef30868b1b0",
   "metadata": {},
   "source": [
    "### one way ANOVA"
   ]
  },
  {
   "cell_type": "code",
   "execution_count": 14,
   "id": "f0dd2988-de8a-4843-829e-e6b82bddfb72",
   "metadata": {},
   "outputs": [
    {
     "data": {
      "text/html": [
       "<div>\n",
       "<style scoped>\n",
       "    .dataframe tbody tr th:only-of-type {\n",
       "        vertical-align: middle;\n",
       "    }\n",
       "\n",
       "    .dataframe tbody tr th {\n",
       "        vertical-align: top;\n",
       "    }\n",
       "\n",
       "    .dataframe thead th {\n",
       "        text-align: right;\n",
       "    }\n",
       "</style>\n",
       "<table border=\"1\" class=\"dataframe\">\n",
       "  <thead>\n",
       "    <tr style=\"text-align: right;\">\n",
       "      <th></th>\n",
       "      <th>Group A</th>\n",
       "      <th>Group B</th>\n",
       "      <th>Group C</th>\n",
       "      <th>Group D</th>\n",
       "    </tr>\n",
       "  </thead>\n",
       "  <tbody>\n",
       "    <tr>\n",
       "      <th>0</th>\n",
       "      <td>21383.06</td>\n",
       "      <td>17077.54</td>\n",
       "      <td>13636.38</td>\n",
       "      <td>14582.73</td>\n",
       "    </tr>\n",
       "    <tr>\n",
       "      <th>1</th>\n",
       "      <td>19729.92</td>\n",
       "      <td>17258.06</td>\n",
       "      <td>5156.36</td>\n",
       "      <td>12880.28</td>\n",
       "    </tr>\n",
       "    <tr>\n",
       "      <th>2</th>\n",
       "      <td>24071.53</td>\n",
       "      <td>20652.91</td>\n",
       "      <td>4446.92</td>\n",
       "      <td>16412.72</td>\n",
       "    </tr>\n",
       "    <tr>\n",
       "      <th>3</th>\n",
       "      <td>19056.28</td>\n",
       "      <td>20845.06</td>\n",
       "      <td>4892.59</td>\n",
       "      <td>14020.00</td>\n",
       "    </tr>\n",
       "    <tr>\n",
       "      <th>4</th>\n",
       "      <td>19147.18</td>\n",
       "      <td>22296.64</td>\n",
       "      <td>14099.38</td>\n",
       "      <td>16467.70</td>\n",
       "    </tr>\n",
       "  </tbody>\n",
       "</table>\n",
       "</div>"
      ],
      "text/plain": [
       "    Group A   Group B   Group C   Group D\n",
       "0  21383.06  17077.54  13636.38  14582.73\n",
       "1  19729.92  17258.06   5156.36  12880.28\n",
       "2  24071.53  20652.91   4446.92  16412.72\n",
       "3  19056.28  20845.06   4892.59  14020.00\n",
       "4  19147.18  22296.64  14099.38  16467.70"
      ]
     },
     "execution_count": 14,
     "metadata": {},
     "output_type": "execute_result"
    }
   ],
   "source": [
    "savings = pd.read_csv(\"C:/Users/Lenovo/Downloads/savings.zip\")\n",
    "savings.head()"
   ]
  },
  {
   "cell_type": "code",
   "execution_count": 15,
   "id": "372ec692-a5fd-4da5-89e4-9f75ce95ccb8",
   "metadata": {},
   "outputs": [],
   "source": [
    "savings_expanded=pd.melt(savings,var_name='Group', value_name='$')"
   ]
  },
  {
   "cell_type": "code",
   "execution_count": 16,
   "id": "0d000348-daa6-4740-9343-4fb734d658fa",
   "metadata": {},
   "outputs": [
    {
     "data": {
      "text/html": [
       "<div>\n",
       "<style scoped>\n",
       "    .dataframe tbody tr th:only-of-type {\n",
       "        vertical-align: middle;\n",
       "    }\n",
       "\n",
       "    .dataframe tbody tr th {\n",
       "        vertical-align: top;\n",
       "    }\n",
       "\n",
       "    .dataframe thead th {\n",
       "        text-align: right;\n",
       "    }\n",
       "</style>\n",
       "<table border=\"1\" class=\"dataframe\">\n",
       "  <thead>\n",
       "    <tr style=\"text-align: right;\">\n",
       "      <th></th>\n",
       "      <th>Group</th>\n",
       "      <th>$</th>\n",
       "    </tr>\n",
       "  </thead>\n",
       "  <tbody>\n",
       "    <tr>\n",
       "      <th>0</th>\n",
       "      <td>Group A</td>\n",
       "      <td>21383.06</td>\n",
       "    </tr>\n",
       "    <tr>\n",
       "      <th>1</th>\n",
       "      <td>Group A</td>\n",
       "      <td>19729.92</td>\n",
       "    </tr>\n",
       "    <tr>\n",
       "      <th>2</th>\n",
       "      <td>Group A</td>\n",
       "      <td>24071.53</td>\n",
       "    </tr>\n",
       "    <tr>\n",
       "      <th>3</th>\n",
       "      <td>Group A</td>\n",
       "      <td>19056.28</td>\n",
       "    </tr>\n",
       "    <tr>\n",
       "      <th>4</th>\n",
       "      <td>Group A</td>\n",
       "      <td>19147.18</td>\n",
       "    </tr>\n",
       "    <tr>\n",
       "      <th>...</th>\n",
       "      <td>...</td>\n",
       "      <td>...</td>\n",
       "    </tr>\n",
       "    <tr>\n",
       "      <th>227</th>\n",
       "      <td>Group D</td>\n",
       "      <td>12180.86</td>\n",
       "    </tr>\n",
       "    <tr>\n",
       "      <th>228</th>\n",
       "      <td>Group D</td>\n",
       "      <td>12972.11</td>\n",
       "    </tr>\n",
       "    <tr>\n",
       "      <th>229</th>\n",
       "      <td>Group D</td>\n",
       "      <td>12068.83</td>\n",
       "    </tr>\n",
       "    <tr>\n",
       "      <th>230</th>\n",
       "      <td>Group D</td>\n",
       "      <td>16064.42</td>\n",
       "    </tr>\n",
       "    <tr>\n",
       "      <th>231</th>\n",
       "      <td>Group D</td>\n",
       "      <td>10884.26</td>\n",
       "    </tr>\n",
       "  </tbody>\n",
       "</table>\n",
       "<p>232 rows × 2 columns</p>\n",
       "</div>"
      ],
      "text/plain": [
       "       Group         $\n",
       "0    Group A  21383.06\n",
       "1    Group A  19729.92\n",
       "2    Group A  24071.53\n",
       "3    Group A  19056.28\n",
       "4    Group A  19147.18\n",
       "..       ...       ...\n",
       "227  Group D  12180.86\n",
       "228  Group D  12972.11\n",
       "229  Group D  12068.83\n",
       "230  Group D  16064.42\n",
       "231  Group D  10884.26\n",
       "\n",
       "[232 rows x 2 columns]"
      ]
     },
     "execution_count": 16,
     "metadata": {},
     "output_type": "execute_result"
    }
   ],
   "source": [
    "savings_expanded"
   ]
  },
  {
   "cell_type": "code",
   "execution_count": 26,
   "id": "0c88dd5d-8aed-4501-b503-0e4318af4d7d",
   "metadata": {},
   "outputs": [
    {
     "data": {
      "text/html": [
       "<div>\n",
       "<style scoped>\n",
       "    .dataframe tbody tr th:only-of-type {\n",
       "        vertical-align: middle;\n",
       "    }\n",
       "\n",
       "    .dataframe tbody tr th {\n",
       "        vertical-align: top;\n",
       "    }\n",
       "\n",
       "    .dataframe thead th {\n",
       "        text-align: right;\n",
       "    }\n",
       "</style>\n",
       "<table border=\"1\" class=\"dataframe\">\n",
       "  <thead>\n",
       "    <tr style=\"text-align: right;\">\n",
       "      <th></th>\n",
       "      <th>Group</th>\n",
       "      <th>$</th>\n",
       "    </tr>\n",
       "  </thead>\n",
       "  <tbody>\n",
       "    <tr>\n",
       "      <th>0</th>\n",
       "      <td>0</td>\n",
       "      <td>21383.06</td>\n",
       "    </tr>\n",
       "    <tr>\n",
       "      <th>1</th>\n",
       "      <td>0</td>\n",
       "      <td>19729.92</td>\n",
       "    </tr>\n",
       "    <tr>\n",
       "      <th>2</th>\n",
       "      <td>0</td>\n",
       "      <td>24071.53</td>\n",
       "    </tr>\n",
       "    <tr>\n",
       "      <th>3</th>\n",
       "      <td>0</td>\n",
       "      <td>19056.28</td>\n",
       "    </tr>\n",
       "    <tr>\n",
       "      <th>4</th>\n",
       "      <td>0</td>\n",
       "      <td>19147.18</td>\n",
       "    </tr>\n",
       "  </tbody>\n",
       "</table>\n",
       "</div>"
      ],
      "text/plain": [
       "   Group         $\n",
       "0      0  21383.06\n",
       "1      0  19729.92\n",
       "2      0  24071.53\n",
       "3      0  19056.28\n",
       "4      0  19147.18"
      ]
     },
     "execution_count": 26,
     "metadata": {},
     "output_type": "execute_result"
    }
   ],
   "source": [
    "savings_expanded = savings_expanded.replace(savings.columns, [0,1,2,3])\n",
    "savings_expanded.head()"
   ]
  },
  {
   "cell_type": "markdown",
   "id": "85d9f9c2-d44f-4ab0-bb3b-6b9b050b271e",
   "metadata": {},
   "source": [
    "## Plot dependent variable"
   ]
  },
  {
   "cell_type": "code",
   "execution_count": 18,
   "id": "e84a1dfa-bb64-4ba0-a656-9205f708c923",
   "metadata": {},
   "outputs": [
    {
     "name": "stderr",
     "output_type": "stream",
     "text": [
      "C:\\Users\\Lenovo\\AppData\\Local\\Temp\\ipykernel_2996\\1140281390.py:1: UserWarning: \n",
      "\n",
      "`distplot` is a deprecated function and will be removed in seaborn v0.14.0.\n",
      "\n",
      "Please adapt your code to use either `displot` (a figure-level function with\n",
      "similar flexibility) or `histplot` (an axes-level function for histograms).\n",
      "\n",
      "For a guide to updating your code to use the new functions, please see\n",
      "https://gist.github.com/mwaskom/de44147ed2974457ad6372750bbe5751\n",
      "\n",
      "  sns.distplot(savings.values[~np.isnan(savings.values)])\n"
     ]
    },
    {
     "data": {
      "text/plain": [
       "<Axes: ylabel='Density'>"
      ]
     },
     "execution_count": 18,
     "metadata": {},
     "output_type": "execute_result"
    },
    {
     "data": {
      "image/png": "[encoded data removed]",
      "text/plain": [
       "<Figure size 432x288 with 1 Axes>"
      ]
     },
     "metadata": {
      "needs_background": "light"
     },
     "output_type": "display_data"
    }
   ],
   "source": [
    "sns.distplot(savings.values[~np.isnan(savings.values)])"
   ]
  },
  {
   "cell_type": "code",
   "execution_count": 22,
   "id": "17360e10-9977-4a4d-8eb4-8fb996a60e69",
   "metadata": {},
   "outputs": [
    {
     "data": {
      "text/plain": [
       "BartlettResult(statistic=3639.1753663764925, pvalue=0.0)"
      ]
     },
     "execution_count": 22,
     "metadata": {},
     "output_type": "execute_result"
    }
   ],
   "source": [
    "scipy.stats.bartlett(savings_expanded['$'], savings_expanded['Group'])"
   ]
  },
  {
   "cell_type": "code",
   "execution_count": 27,
   "id": "7ff0f9df-6c3b-48d6-9be3-9ff8d045cc7d",
   "metadata": {},
   "outputs": [
    {
     "data": {
      "text/plain": [
       "FlignerResult(statistic=nan, pvalue=nan)"
      ]
     },
     "execution_count": 27,
     "metadata": {},
     "output_type": "execute_result"
    }
   ],
   "source": [
    "scipy.stats.fligner(savings_expanded['$'], savings_expanded['Group'])"
   ]
  },
  {
   "cell_type": "code",
   "execution_count": 31,
   "id": "bc77f4c9-4af6-4d35-a293-1d44889fea60",
   "metadata": {},
   "outputs": [],
   "source": [
    "savings_expanded.dropna(inplace=True)"
   ]
  },
  {
   "cell_type": "code",
   "execution_count": 32,
   "id": "a6baa29e-5ca0-4d5c-8d90-d470a78b437a",
   "metadata": {},
   "outputs": [
    {
     "data": {
      "text/plain": [
       "F_onewayResult(statistic=203.25514198903812, pvalue=1.993359557800572e-61)"
      ]
     },
     "execution_count": 32,
     "metadata": {},
     "output_type": "execute_result"
    }
   ],
   "source": [
    "stats.f_oneway(savings_expanded['$'][savings_expanded['Group']==0],\n",
    "              savings_expanded['$'][savings_expanded['Group']==1],\n",
    "              savings_expanded['$'][savings_expanded['Group']==2],\n",
    "              savings_expanded['$'][savings_expanded['Group']==3])"
   ]
  },
  {
   "cell_type": "markdown",
   "id": "558daf08-ce8d-4563-801c-1cb61a2a4f4a",
   "metadata": {},
   "source": [
    "#### p value is less than .05, there is a differences between groups"
   ]
  },
  {
   "cell_type": "markdown",
   "id": "e5b7abc8-dc42-4c62-961d-9411c36bbf42",
   "metadata": {},
   "source": [
    "# Scenario 4"
   ]
  },
  {
   "cell_type": "markdown",
   "id": "54f34497-5ac7-4fc2-b724-fd0ef53a9dca",
   "metadata": {},
   "source": [
    "### Two Proportion Z Test"
   ]
  },
  {
   "cell_type": "code",
   "execution_count": 33,
   "id": "d994df05-ff46-4b57-89a0-b565bcf05364",
   "metadata": {},
   "outputs": [
    {
     "name": "stdout",
     "output_type": "stream",
     "text": [
      "1.3156546893290748 0.18828996870412507\n"
     ]
    }
   ],
   "source": [
    "stat, pval = proportions_ztest([374,171], [374+129, 171+74])\n",
    "print(stat, pval)"
   ]
  },
  {
   "cell_type": "code",
   "execution_count": null,
   "id": "5d653b61-536e-439c-bfb8-6d42b38b447f",
   "metadata": {},
   "outputs": [],
   "source": [
    "### the p value is more than .05 there is no difference"
   ]
  }
 ],
 "metadata": {
  "kernelspec": {
   "display_name": "Python 3 (ipykernel)",
   "language": "python",
   "name": "python3"
  },
  "language_info": {
   "codemirror_mode": {
    "name": "ipython",
    "version": 3
   },
   "file_extension": ".py",
   "mimetype": "text/x-python",
   "name": "python",
   "nbconvert_exporter": "python",
   "pygments_lexer": "ipython3",
   "version": "3.10.6"
  }
 },
 "nbformat": 4,
 "nbformat_minor": 5
}
