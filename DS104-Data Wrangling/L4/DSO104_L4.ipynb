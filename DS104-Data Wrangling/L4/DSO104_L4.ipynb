{
 "cells": [
  {
   "cell_type": "code",
   "execution_count": 10,
   "id": "6664628b-6d80-4685-b9ef-39d1c205448f",
   "metadata": {},
   "outputs": [],
   "source": [
    "import seaborn as sns\n",
    "import pandas as pd\n",
    "import matplotlib.pyplot as plt\n",
    "import matplotlib.mlab as mlab "
   ]
  },
  {
   "cell_type": "code",
   "execution_count": 64,
   "id": "92b69983-b90a-4b47-ad2a-c7d814b9be30",
   "metadata": {},
   "outputs": [],
   "source": [
    "L3P1=pd.read_csv(\"C:/Users/Lenovo/Desktop/Data-Science-Program/DATASETS/L3P1.csv\")\n",
    "L3P2=pd.read_csv(\"C:/Users/Lenovo/Desktop/Data-Science-Program/DATASETS/L3P2.csv\")\n",
    "L3Part3=pd.read_csv(\"C:/Users/Lenovo/Desktop/Data-Science-Program/DATASETS/L3Part3.csv\")\n",
    "crocodiles=pd.read_csv(\"C:/Users/Lenovo/Desktop/Data-Science-Program/DATASETS/crocodiles.csv\")\n",
    "L6Handson=pd.read_csv(\"C:/Users/Lenovo/Desktop/Data-Science-Program/DATASETS/L6handson.csv\")"
   ]
  },
  {
   "cell_type": "code",
   "execution_count": 65,
   "id": "61686a4e-7924-4ed1-acd5-f1bb3876783a",
   "metadata": {},
   "outputs": [
    {
     "data": {
      "text/plain": [
       "Index(['Power Boats (in 1000's)'], dtype='object')"
      ]
     },
     "execution_count": 65,
     "metadata": {},
     "output_type": "execute_result"
    }
   ],
   "source": [
    "L3P1.columns"
   ]
  },
  {
   "cell_type": "code",
   "execution_count": 67,
   "id": "f2d861f0-15a5-4280-b03b-9a678e98205b",
   "metadata": {},
   "outputs": [
    {
     "data": {
      "text/plain": [
       "<Axes: >"
      ]
     },
     "execution_count": 67,
     "metadata": {},
     "output_type": "execute_result"
    },
    {
     "data": {
      "image/png": "[encoded data removed]",
      "text/plain": [
       "<Figure size 432x288 with 1 Axes>"
      ]
     },
     "metadata": {
      "needs_background": "light"
     },
     "output_type": "display_data"
    }
   ],
   "source": [
    "L3P1[\"Power Boats (in 1000's)\"].hist(bins=7)"
   ]
  },
  {
   "cell_type": "code",
   "execution_count": 74,
   "id": "3181858b-0d63-44d7-b2c2-ab9a7ee2064d",
   "metadata": {},
   "outputs": [
    {
     "data": {
      "text/plain": [
       "<Axes: >"
      ]
     },
     "execution_count": 74,
     "metadata": {},
     "output_type": "execute_result"
    },
    {
     "data": {
      "image/png": "[encoded data removed]",
      "text/plain": [
       "<Figure size 432x288 with 1 Axes>"
      ]
     },
     "metadata": {
      "needs_background": "light"
     },
     "output_type": "display_data"
    }
   ],
   "source": [
    "L3P2.Cars.value_counts().plot(kind=\"bar\")"
   ]
  },
  {
   "cell_type": "code",
   "execution_count": 75,
   "id": "ef91c641-6d46-454a-9694-b48f20732ae0",
   "metadata": {},
   "outputs": [
    {
     "data": {
      "text/plain": [
       "Index(['Car', 'Location'], dtype='object')"
      ]
     },
     "execution_count": 75,
     "metadata": {},
     "output_type": "execute_result"
    }
   ],
   "source": [
    "L3Part3.columns"
   ]
  },
  {
   "cell_type": "code",
   "execution_count": 76,
   "id": "4fc4bdd9-e769-4c3f-afae-aece1610d8ab",
   "metadata": {},
   "outputs": [],
   "source": [
    "L3Part3_crosstab = pd.crosstab(L3Part3['Car'],L3Part3['Location'])"
   ]
  },
  {
   "cell_type": "code",
   "execution_count": 77,
   "id": "56de0cef-a3d7-4a25-aec8-bb41a7b02ed8",
   "metadata": {},
   "outputs": [
    {
     "data": {
      "text/html": [
       "<div>\n",
       "<style scoped>\n",
       "    .dataframe tbody tr th:only-of-type {\n",
       "        vertical-align: middle;\n",
       "    }\n",
       "\n",
       "    .dataframe tbody tr th {\n",
       "        vertical-align: top;\n",
       "    }\n",
       "\n",
       "    .dataframe thead th {\n",
       "        text-align: right;\n",
       "    }\n",
       "</style>\n",
       "<table border=\"1\" class=\"dataframe\">\n",
       "  <thead>\n",
       "    <tr style=\"text-align: right;\">\n",
       "      <th>Location</th>\n",
       "      <th>East</th>\n",
       "      <th>Northwest</th>\n",
       "      <th>Southwest</th>\n",
       "    </tr>\n",
       "    <tr>\n",
       "      <th>Car</th>\n",
       "      <th></th>\n",
       "      <th></th>\n",
       "      <th></th>\n",
       "    </tr>\n",
       "  </thead>\n",
       "  <tbody>\n",
       "    <tr>\n",
       "      <th>Datsun</th>\n",
       "      <td>1</td>\n",
       "      <td>2</td>\n",
       "      <td>2</td>\n",
       "    </tr>\n",
       "    <tr>\n",
       "      <th>Dodge</th>\n",
       "      <td>6</td>\n",
       "      <td>6</td>\n",
       "      <td>6</td>\n",
       "    </tr>\n",
       "    <tr>\n",
       "      <th>Ford</th>\n",
       "      <td>7</td>\n",
       "      <td>6</td>\n",
       "      <td>6</td>\n",
       "    </tr>\n",
       "    <tr>\n",
       "      <th>Jaguar</th>\n",
       "      <td>7</td>\n",
       "      <td>10</td>\n",
       "      <td>16</td>\n",
       "    </tr>\n",
       "    <tr>\n",
       "      <th>Mitsubishi</th>\n",
       "      <td>3</td>\n",
       "      <td>4</td>\n",
       "      <td>5</td>\n",
       "    </tr>\n",
       "  </tbody>\n",
       "</table>\n",
       "</div>"
      ],
      "text/plain": [
       "Location    East  Northwest  Southwest\n",
       "Car                                   \n",
       "Datsun         1          2          2\n",
       "Dodge          6          6          6\n",
       "Ford           7          6          6\n",
       "Jaguar         7         10         16\n",
       "Mitsubishi     3          4          5"
      ]
     },
     "execution_count": 77,
     "metadata": {},
     "output_type": "execute_result"
    }
   ],
   "source": [
    "L3Part3_crosstab"
   ]
  },
  {
   "cell_type": "code",
   "execution_count": 78,
   "id": "2f7d1b3c-7c5d-42aa-90b9-9caa2c57f230",
   "metadata": {},
   "outputs": [
    {
     "data": {
      "text/plain": [
       "<Axes: xlabel='Car'>"
      ]
     },
     "execution_count": 78,
     "metadata": {},
     "output_type": "execute_result"
    },
    {
     "data": {
      "image/png": "[encoded data removed]",
      "text/plain": [
       "<Figure size 432x288 with 1 Axes>"
      ]
     },
     "metadata": {
      "needs_background": "light"
     },
     "output_type": "display_data"
    }
   ],
   "source": [
    "L3Part3_crosstab.plot.bar(stacked=True)"
   ]
  },
  {
   "cell_type": "code",
   "execution_count": 80,
   "id": "e1080311-7fb8-4c67-9120-93db40a9b134",
   "metadata": {},
   "outputs": [
    {
     "data": {
      "text/plain": [
       "<matplotlib.collections.PathCollection at 0x213d578fdf0>"
      ]
     },
     "execution_count": 80,
     "metadata": {},
     "output_type": "execute_result"
    },
    {
     "data": {
      "image/png": "[encoded data removed]",
      "text/plain": [
       "<Figure size 432x288 with 1 Axes>"
      ]
     },
     "metadata": {
      "needs_background": "light"
     },
     "output_type": "display_data"
    }
   ],
   "source": [
    "plt.scatter(crocodiles['HeadLength'],crocodiles['BodyLength'])"
   ]
  },
  {
   "cell_type": "code",
   "execution_count": 84,
   "id": "2be8213e-779f-4ff1-879a-a145d3be7b1c",
   "metadata": {},
   "outputs": [
    {
     "data": {
      "text/plain": [
       "([<matplotlib.axis.XTick at 0x213d9ecb370>,\n",
       "  <matplotlib.axis.XTick at 0x213d9ecb340>,\n",
       "  <matplotlib.axis.XTick at 0x213d9ecae60>,\n",
       "  <matplotlib.axis.XTick at 0x213d9f5f8b0>,\n",
       "  <matplotlib.axis.XTick at 0x213d9f843a0>,\n",
       "  <matplotlib.axis.XTick at 0x213d9f5f220>,\n",
       "  <matplotlib.axis.XTick at 0x213d9f85240>],\n",
       " [Text(0, 0, 'May 1,'),\n",
       "  Text(15, 0, 'May 16'),\n",
       "  Text(30, 0, 'May 31'),\n",
       "  Text(45, 0, 'June 1'),\n",
       "  Text(60, 0, 'June 3'),\n",
       "  Text(75, 0, 'July 1'),\n",
       "  Text(90, 0, 'July 3')])"
      ]
     },
     "execution_count": 84,
     "metadata": {},
     "output_type": "execute_result"
    },
    {
     "data": {
      "image/png": "[encoded data removed]",
      "text/plain": [
       "<Figure size 432x288 with 1 Axes>"
      ]
     },
     "metadata": {
      "needs_background": "light"
     },
     "output_type": "display_data"
    }
   ],
   "source": [
    "plt.plot(L6Handson.index, L6Handson[\"Heart Attacks\"])\n",
    "plt.xticks([0, 15, 30, 45, 60, 75, 90], ['May 1,', 'May 16', 'May 31', 'June 1', 'June 3', 'July 1', 'July 3'], rotation=25)"
   ]
  },
  {
   "cell_type": "code",
   "execution_count": null,
   "id": "11a7aa37-e8b1-466c-8f27-b6f68a3f7e9a",
   "metadata": {},
   "outputs": [],
   "source": []
  }
 ],
 "metadata": {
  "kernelspec": {
   "display_name": "Python 3 (ipykernel)",
   "language": "python",
   "name": "python3"
  },
  "language_info": {
   "codemirror_mode": {
    "name": "ipython",
    "version": 3
   },
   "file_extension": ".py",
   "mimetype": "text/x-python",
   "name": "python",
   "nbconvert_exporter": "python",
   "pygments_lexer": "ipython3",
   "version": "3.10.6"
  }
 },
 "nbformat": 4,
 "nbformat_minor": 5
}
